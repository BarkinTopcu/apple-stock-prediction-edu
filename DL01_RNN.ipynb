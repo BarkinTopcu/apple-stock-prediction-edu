{
  "nbformat": 4,
  "nbformat_minor": 0,
  "metadata": {
    "colab": {
      "provenance": [],
      "gpuType": "T4",
      "authorship_tag": "ABX9TyMYv1gBxwZUMIdEIPwDego9"
    },
    "kernelspec": {
      "name": "python3",
      "display_name": "Python 3"
    },
    "language_info": {
      "name": "python"
    },
    "accelerator": "GPU"
  },
  "cells": [
    {
      "cell_type": "markdown",
      "source": [
        "# Deep Learning - RNN ( Not Finished )\n",
        "\n",
        "In this section, RNN is used to forecast the apple prices.\n",
        "\n",
        "## ⚠️ Disclaimer\n",
        "\n",
        "> This project is created **for educational and research purposes only**.  \n",
        "> It does **not** constitute investment advice, financial recommendations, or a solicitation to buy or sell any securities.\n",
        ">\n",
        "> All data is sourced from [Yahoo Finance](https://finance.yahoo.com/) using the `yfinance` Python package.  \n",
        "> This project is **not affiliated with, endorsed by, officially connected to Apple Inc.** or Yahoo Finance in any way. in any way."
      ],
      "metadata": {
        "id": "OfRLLE4hvE9q"
      }
    },
    {
      "cell_type": "code",
      "execution_count": 1,
      "metadata": {
        "id": "XMxIUGwHEwCy"
      },
      "outputs": [],
      "source": [
        "#Libraries\n",
        "import yfinance as yf\n",
        "import pandas as pd\n",
        "import matplotlib.pyplot as plt\n",
        "import seaborn as sns\n",
        "import numpy as np"
      ]
    },
    {
      "cell_type": "code",
      "source": [
        "apple_df = yf.Ticker(\"AAPL\").history(\n",
        "    start=\"2020-03-30\",\n",
        "    end=\"2025-03-29\",\n",
        "    interval=\"1d\"\n",
        ")\n",
        "apple_df"
      ],
      "metadata": {
        "colab": {
          "base_uri": "https://localhost:8080/",
          "height": 455
        },
        "id": "gKCBgG5JFaep",
        "outputId": "e4fecfd4-7486-481c-89ec-81ef67cff32e"
      },
      "execution_count": 2,
      "outputs": [
        {
          "output_type": "execute_result",
          "data": {
            "text/plain": [
              "                                 Open        High         Low       Close  \\\n",
              "Date                                                                        \n",
              "2020-03-30 00:00:00-04:00   60.849346   62.009351   60.524153   61.837048   \n",
              "2020-03-31 00:00:00-04:00   62.028759   63.700813   61.155113   61.710846   \n",
              "2020-04-01 00:00:00-04:00   59.820377   60.359125   58.031834   58.463802   \n",
              "2020-04-02 00:00:00-04:00   58.325477   59.492763   57.490661   59.439373   \n",
              "2020-04-03 00:00:00-04:00   58.922460   59.626228   57.992999   58.585136   \n",
              "...                               ...         ...         ...         ...   \n",
              "2025-03-24 00:00:00-04:00  221.000000  221.479996  218.580002  220.729996   \n",
              "2025-03-25 00:00:00-04:00  220.770004  224.100006  220.080002  223.750000   \n",
              "2025-03-26 00:00:00-04:00  223.509995  225.020004  220.470001  221.529999   \n",
              "2025-03-27 00:00:00-04:00  221.389999  224.990005  220.559998  223.850006   \n",
              "2025-03-28 00:00:00-04:00  221.669998  223.809998  217.679993  217.899994   \n",
              "\n",
              "                              Volume  Dividends  Stock Splits  \n",
              "Date                                                           \n",
              "2020-03-30 00:00:00-04:00  167976400        0.0           0.0  \n",
              "2020-03-31 00:00:00-04:00  197002000        0.0           0.0  \n",
              "2020-04-01 00:00:00-04:00  176218400        0.0           0.0  \n",
              "2020-04-02 00:00:00-04:00  165934000        0.0           0.0  \n",
              "2020-04-03 00:00:00-04:00  129880000        0.0           0.0  \n",
              "...                              ...        ...           ...  \n",
              "2025-03-24 00:00:00-04:00   44299500        0.0           0.0  \n",
              "2025-03-25 00:00:00-04:00   34493600        0.0           0.0  \n",
              "2025-03-26 00:00:00-04:00   34466100        0.0           0.0  \n",
              "2025-03-27 00:00:00-04:00   37094800        0.0           0.0  \n",
              "2025-03-28 00:00:00-04:00   39818600        0.0           0.0  \n",
              "\n",
              "[1257 rows x 7 columns]"
            ],
            "text/html": [
              "\n",
              "  <div id=\"df-df15f74a-023e-4bcb-a750-97f502f9ec71\" class=\"colab-df-container\">\n",
              "    <div>\n",
              "<style scoped>\n",
              "    .dataframe tbody tr th:only-of-type {\n",
              "        vertical-align: middle;\n",
              "    }\n",
              "\n",
              "    .dataframe tbody tr th {\n",
              "        vertical-align: top;\n",
              "    }\n",
              "\n",
              "    .dataframe thead th {\n",
              "        text-align: right;\n",
              "    }\n",
              "</style>\n",
              "<table border=\"1\" class=\"dataframe\">\n",
              "  <thead>\n",
              "    <tr style=\"text-align: right;\">\n",
              "      <th></th>\n",
              "      <th>Open</th>\n",
              "      <th>High</th>\n",
              "      <th>Low</th>\n",
              "      <th>Close</th>\n",
              "      <th>Volume</th>\n",
              "      <th>Dividends</th>\n",
              "      <th>Stock Splits</th>\n",
              "    </tr>\n",
              "    <tr>\n",
              "      <th>Date</th>\n",
              "      <th></th>\n",
              "      <th></th>\n",
              "      <th></th>\n",
              "      <th></th>\n",
              "      <th></th>\n",
              "      <th></th>\n",
              "      <th></th>\n",
              "    </tr>\n",
              "  </thead>\n",
              "  <tbody>\n",
              "    <tr>\n",
              "      <th>2020-03-30 00:00:00-04:00</th>\n",
              "      <td>60.849346</td>\n",
              "      <td>62.009351</td>\n",
              "      <td>60.524153</td>\n",
              "      <td>61.837048</td>\n",
              "      <td>167976400</td>\n",
              "      <td>0.0</td>\n",
              "      <td>0.0</td>\n",
              "    </tr>\n",
              "    <tr>\n",
              "      <th>2020-03-31 00:00:00-04:00</th>\n",
              "      <td>62.028759</td>\n",
              "      <td>63.700813</td>\n",
              "      <td>61.155113</td>\n",
              "      <td>61.710846</td>\n",
              "      <td>197002000</td>\n",
              "      <td>0.0</td>\n",
              "      <td>0.0</td>\n",
              "    </tr>\n",
              "    <tr>\n",
              "      <th>2020-04-01 00:00:00-04:00</th>\n",
              "      <td>59.820377</td>\n",
              "      <td>60.359125</td>\n",
              "      <td>58.031834</td>\n",
              "      <td>58.463802</td>\n",
              "      <td>176218400</td>\n",
              "      <td>0.0</td>\n",
              "      <td>0.0</td>\n",
              "    </tr>\n",
              "    <tr>\n",
              "      <th>2020-04-02 00:00:00-04:00</th>\n",
              "      <td>58.325477</td>\n",
              "      <td>59.492763</td>\n",
              "      <td>57.490661</td>\n",
              "      <td>59.439373</td>\n",
              "      <td>165934000</td>\n",
              "      <td>0.0</td>\n",
              "      <td>0.0</td>\n",
              "    </tr>\n",
              "    <tr>\n",
              "      <th>2020-04-03 00:00:00-04:00</th>\n",
              "      <td>58.922460</td>\n",
              "      <td>59.626228</td>\n",
              "      <td>57.992999</td>\n",
              "      <td>58.585136</td>\n",
              "      <td>129880000</td>\n",
              "      <td>0.0</td>\n",
              "      <td>0.0</td>\n",
              "    </tr>\n",
              "    <tr>\n",
              "      <th>...</th>\n",
              "      <td>...</td>\n",
              "      <td>...</td>\n",
              "      <td>...</td>\n",
              "      <td>...</td>\n",
              "      <td>...</td>\n",
              "      <td>...</td>\n",
              "      <td>...</td>\n",
              "    </tr>\n",
              "    <tr>\n",
              "      <th>2025-03-24 00:00:00-04:00</th>\n",
              "      <td>221.000000</td>\n",
              "      <td>221.479996</td>\n",
              "      <td>218.580002</td>\n",
              "      <td>220.729996</td>\n",
              "      <td>44299500</td>\n",
              "      <td>0.0</td>\n",
              "      <td>0.0</td>\n",
              "    </tr>\n",
              "    <tr>\n",
              "      <th>2025-03-25 00:00:00-04:00</th>\n",
              "      <td>220.770004</td>\n",
              "      <td>224.100006</td>\n",
              "      <td>220.080002</td>\n",
              "      <td>223.750000</td>\n",
              "      <td>34493600</td>\n",
              "      <td>0.0</td>\n",
              "      <td>0.0</td>\n",
              "    </tr>\n",
              "    <tr>\n",
              "      <th>2025-03-26 00:00:00-04:00</th>\n",
              "      <td>223.509995</td>\n",
              "      <td>225.020004</td>\n",
              "      <td>220.470001</td>\n",
              "      <td>221.529999</td>\n",
              "      <td>34466100</td>\n",
              "      <td>0.0</td>\n",
              "      <td>0.0</td>\n",
              "    </tr>\n",
              "    <tr>\n",
              "      <th>2025-03-27 00:00:00-04:00</th>\n",
              "      <td>221.389999</td>\n",
              "      <td>224.990005</td>\n",
              "      <td>220.559998</td>\n",
              "      <td>223.850006</td>\n",
              "      <td>37094800</td>\n",
              "      <td>0.0</td>\n",
              "      <td>0.0</td>\n",
              "    </tr>\n",
              "    <tr>\n",
              "      <th>2025-03-28 00:00:00-04:00</th>\n",
              "      <td>221.669998</td>\n",
              "      <td>223.809998</td>\n",
              "      <td>217.679993</td>\n",
              "      <td>217.899994</td>\n",
              "      <td>39818600</td>\n",
              "      <td>0.0</td>\n",
              "      <td>0.0</td>\n",
              "    </tr>\n",
              "  </tbody>\n",
              "</table>\n",
              "<p>1257 rows × 7 columns</p>\n",
              "</div>\n",
              "    <div class=\"colab-df-buttons\">\n",
              "\n",
              "  <div class=\"colab-df-container\">\n",
              "    <button class=\"colab-df-convert\" onclick=\"convertToInteractive('df-df15f74a-023e-4bcb-a750-97f502f9ec71')\"\n",
              "            title=\"Convert this dataframe to an interactive table.\"\n",
              "            style=\"display:none;\">\n",
              "\n",
              "  <svg xmlns=\"http://www.w3.org/2000/svg\" height=\"24px\" viewBox=\"0 -960 960 960\">\n",
              "    <path d=\"M120-120v-720h720v720H120Zm60-500h600v-160H180v160Zm220 220h160v-160H400v160Zm0 220h160v-160H400v160ZM180-400h160v-160H180v160Zm440 0h160v-160H620v160ZM180-180h160v-160H180v160Zm440 0h160v-160H620v160Z\"/>\n",
              "  </svg>\n",
              "    </button>\n",
              "\n",
              "  <style>\n",
              "    .colab-df-container {\n",
              "      display:flex;\n",
              "      gap: 12px;\n",
              "    }\n",
              "\n",
              "    .colab-df-convert {\n",
              "      background-color: #E8F0FE;\n",
              "      border: none;\n",
              "      border-radius: 50%;\n",
              "      cursor: pointer;\n",
              "      display: none;\n",
              "      fill: #1967D2;\n",
              "      height: 32px;\n",
              "      padding: 0 0 0 0;\n",
              "      width: 32px;\n",
              "    }\n",
              "\n",
              "    .colab-df-convert:hover {\n",
              "      background-color: #E2EBFA;\n",
              "      box-shadow: 0px 1px 2px rgba(60, 64, 67, 0.3), 0px 1px 3px 1px rgba(60, 64, 67, 0.15);\n",
              "      fill: #174EA6;\n",
              "    }\n",
              "\n",
              "    .colab-df-buttons div {\n",
              "      margin-bottom: 4px;\n",
              "    }\n",
              "\n",
              "    [theme=dark] .colab-df-convert {\n",
              "      background-color: #3B4455;\n",
              "      fill: #D2E3FC;\n",
              "    }\n",
              "\n",
              "    [theme=dark] .colab-df-convert:hover {\n",
              "      background-color: #434B5C;\n",
              "      box-shadow: 0px 1px 3px 1px rgba(0, 0, 0, 0.15);\n",
              "      filter: drop-shadow(0px 1px 2px rgba(0, 0, 0, 0.3));\n",
              "      fill: #FFFFFF;\n",
              "    }\n",
              "  </style>\n",
              "\n",
              "    <script>\n",
              "      const buttonEl =\n",
              "        document.querySelector('#df-df15f74a-023e-4bcb-a750-97f502f9ec71 button.colab-df-convert');\n",
              "      buttonEl.style.display =\n",
              "        google.colab.kernel.accessAllowed ? 'block' : 'none';\n",
              "\n",
              "      async function convertToInteractive(key) {\n",
              "        const element = document.querySelector('#df-df15f74a-023e-4bcb-a750-97f502f9ec71');\n",
              "        const dataTable =\n",
              "          await google.colab.kernel.invokeFunction('convertToInteractive',\n",
              "                                                    [key], {});\n",
              "        if (!dataTable) return;\n",
              "\n",
              "        const docLinkHtml = 'Like what you see? Visit the ' +\n",
              "          '<a target=\"_blank\" href=https://colab.research.google.com/notebooks/data_table.ipynb>data table notebook</a>'\n",
              "          + ' to learn more about interactive tables.';\n",
              "        element.innerHTML = '';\n",
              "        dataTable['output_type'] = 'display_data';\n",
              "        await google.colab.output.renderOutput(dataTable, element);\n",
              "        const docLink = document.createElement('div');\n",
              "        docLink.innerHTML = docLinkHtml;\n",
              "        element.appendChild(docLink);\n",
              "      }\n",
              "    </script>\n",
              "  </div>\n",
              "\n",
              "\n",
              "<div id=\"df-dbff039f-b412-4629-ae0e-6e82286328c9\">\n",
              "  <button class=\"colab-df-quickchart\" onclick=\"quickchart('df-dbff039f-b412-4629-ae0e-6e82286328c9')\"\n",
              "            title=\"Suggest charts\"\n",
              "            style=\"display:none;\">\n",
              "\n",
              "<svg xmlns=\"http://www.w3.org/2000/svg\" height=\"24px\"viewBox=\"0 0 24 24\"\n",
              "     width=\"24px\">\n",
              "    <g>\n",
              "        <path d=\"M19 3H5c-1.1 0-2 .9-2 2v14c0 1.1.9 2 2 2h14c1.1 0 2-.9 2-2V5c0-1.1-.9-2-2-2zM9 17H7v-7h2v7zm4 0h-2V7h2v10zm4 0h-2v-4h2v4z\"/>\n",
              "    </g>\n",
              "</svg>\n",
              "  </button>\n",
              "\n",
              "<style>\n",
              "  .colab-df-quickchart {\n",
              "      --bg-color: #E8F0FE;\n",
              "      --fill-color: #1967D2;\n",
              "      --hover-bg-color: #E2EBFA;\n",
              "      --hover-fill-color: #174EA6;\n",
              "      --disabled-fill-color: #AAA;\n",
              "      --disabled-bg-color: #DDD;\n",
              "  }\n",
              "\n",
              "  [theme=dark] .colab-df-quickchart {\n",
              "      --bg-color: #3B4455;\n",
              "      --fill-color: #D2E3FC;\n",
              "      --hover-bg-color: #434B5C;\n",
              "      --hover-fill-color: #FFFFFF;\n",
              "      --disabled-bg-color: #3B4455;\n",
              "      --disabled-fill-color: #666;\n",
              "  }\n",
              "\n",
              "  .colab-df-quickchart {\n",
              "    background-color: var(--bg-color);\n",
              "    border: none;\n",
              "    border-radius: 50%;\n",
              "    cursor: pointer;\n",
              "    display: none;\n",
              "    fill: var(--fill-color);\n",
              "    height: 32px;\n",
              "    padding: 0;\n",
              "    width: 32px;\n",
              "  }\n",
              "\n",
              "  .colab-df-quickchart:hover {\n",
              "    background-color: var(--hover-bg-color);\n",
              "    box-shadow: 0 1px 2px rgba(60, 64, 67, 0.3), 0 1px 3px 1px rgba(60, 64, 67, 0.15);\n",
              "    fill: var(--button-hover-fill-color);\n",
              "  }\n",
              "\n",
              "  .colab-df-quickchart-complete:disabled,\n",
              "  .colab-df-quickchart-complete:disabled:hover {\n",
              "    background-color: var(--disabled-bg-color);\n",
              "    fill: var(--disabled-fill-color);\n",
              "    box-shadow: none;\n",
              "  }\n",
              "\n",
              "  .colab-df-spinner {\n",
              "    border: 2px solid var(--fill-color);\n",
              "    border-color: transparent;\n",
              "    border-bottom-color: var(--fill-color);\n",
              "    animation:\n",
              "      spin 1s steps(1) infinite;\n",
              "  }\n",
              "\n",
              "  @keyframes spin {\n",
              "    0% {\n",
              "      border-color: transparent;\n",
              "      border-bottom-color: var(--fill-color);\n",
              "      border-left-color: var(--fill-color);\n",
              "    }\n",
              "    20% {\n",
              "      border-color: transparent;\n",
              "      border-left-color: var(--fill-color);\n",
              "      border-top-color: var(--fill-color);\n",
              "    }\n",
              "    30% {\n",
              "      border-color: transparent;\n",
              "      border-left-color: var(--fill-color);\n",
              "      border-top-color: var(--fill-color);\n",
              "      border-right-color: var(--fill-color);\n",
              "    }\n",
              "    40% {\n",
              "      border-color: transparent;\n",
              "      border-right-color: var(--fill-color);\n",
              "      border-top-color: var(--fill-color);\n",
              "    }\n",
              "    60% {\n",
              "      border-color: transparent;\n",
              "      border-right-color: var(--fill-color);\n",
              "    }\n",
              "    80% {\n",
              "      border-color: transparent;\n",
              "      border-right-color: var(--fill-color);\n",
              "      border-bottom-color: var(--fill-color);\n",
              "    }\n",
              "    90% {\n",
              "      border-color: transparent;\n",
              "      border-bottom-color: var(--fill-color);\n",
              "    }\n",
              "  }\n",
              "</style>\n",
              "\n",
              "  <script>\n",
              "    async function quickchart(key) {\n",
              "      const quickchartButtonEl =\n",
              "        document.querySelector('#' + key + ' button');\n",
              "      quickchartButtonEl.disabled = true;  // To prevent multiple clicks.\n",
              "      quickchartButtonEl.classList.add('colab-df-spinner');\n",
              "      try {\n",
              "        const charts = await google.colab.kernel.invokeFunction(\n",
              "            'suggestCharts', [key], {});\n",
              "      } catch (error) {\n",
              "        console.error('Error during call to suggestCharts:', error);\n",
              "      }\n",
              "      quickchartButtonEl.classList.remove('colab-df-spinner');\n",
              "      quickchartButtonEl.classList.add('colab-df-quickchart-complete');\n",
              "    }\n",
              "    (() => {\n",
              "      let quickchartButtonEl =\n",
              "        document.querySelector('#df-dbff039f-b412-4629-ae0e-6e82286328c9 button');\n",
              "      quickchartButtonEl.style.display =\n",
              "        google.colab.kernel.accessAllowed ? 'block' : 'none';\n",
              "    })();\n",
              "  </script>\n",
              "</div>\n",
              "\n",
              "  <div id=\"id_558f7a02-81fb-4df9-9542-140d59c751b1\">\n",
              "    <style>\n",
              "      .colab-df-generate {\n",
              "        background-color: #E8F0FE;\n",
              "        border: none;\n",
              "        border-radius: 50%;\n",
              "        cursor: pointer;\n",
              "        display: none;\n",
              "        fill: #1967D2;\n",
              "        height: 32px;\n",
              "        padding: 0 0 0 0;\n",
              "        width: 32px;\n",
              "      }\n",
              "\n",
              "      .colab-df-generate:hover {\n",
              "        background-color: #E2EBFA;\n",
              "        box-shadow: 0px 1px 2px rgba(60, 64, 67, 0.3), 0px 1px 3px 1px rgba(60, 64, 67, 0.15);\n",
              "        fill: #174EA6;\n",
              "      }\n",
              "\n",
              "      [theme=dark] .colab-df-generate {\n",
              "        background-color: #3B4455;\n",
              "        fill: #D2E3FC;\n",
              "      }\n",
              "\n",
              "      [theme=dark] .colab-df-generate:hover {\n",
              "        background-color: #434B5C;\n",
              "        box-shadow: 0px 1px 3px 1px rgba(0, 0, 0, 0.15);\n",
              "        filter: drop-shadow(0px 1px 2px rgba(0, 0, 0, 0.3));\n",
              "        fill: #FFFFFF;\n",
              "      }\n",
              "    </style>\n",
              "    <button class=\"colab-df-generate\" onclick=\"generateWithVariable('apple_df')\"\n",
              "            title=\"Generate code using this dataframe.\"\n",
              "            style=\"display:none;\">\n",
              "\n",
              "  <svg xmlns=\"http://www.w3.org/2000/svg\" height=\"24px\"viewBox=\"0 0 24 24\"\n",
              "       width=\"24px\">\n",
              "    <path d=\"M7,19H8.4L18.45,9,17,7.55,7,17.6ZM5,21V16.75L18.45,3.32a2,2,0,0,1,2.83,0l1.4,1.43a1.91,1.91,0,0,1,.58,1.4,1.91,1.91,0,0,1-.58,1.4L9.25,21ZM18.45,9,17,7.55Zm-12,3A5.31,5.31,0,0,0,4.9,8.1,5.31,5.31,0,0,0,1,6.5,5.31,5.31,0,0,0,4.9,4.9,5.31,5.31,0,0,0,6.5,1,5.31,5.31,0,0,0,8.1,4.9,5.31,5.31,0,0,0,12,6.5,5.46,5.46,0,0,0,6.5,12Z\"/>\n",
              "  </svg>\n",
              "    </button>\n",
              "    <script>\n",
              "      (() => {\n",
              "      const buttonEl =\n",
              "        document.querySelector('#id_558f7a02-81fb-4df9-9542-140d59c751b1 button.colab-df-generate');\n",
              "      buttonEl.style.display =\n",
              "        google.colab.kernel.accessAllowed ? 'block' : 'none';\n",
              "\n",
              "      buttonEl.onclick = () => {\n",
              "        google.colab.notebook.generateWithVariable('apple_df');\n",
              "      }\n",
              "      })();\n",
              "    </script>\n",
              "  </div>\n",
              "\n",
              "    </div>\n",
              "  </div>\n"
            ],
            "application/vnd.google.colaboratory.intrinsic+json": {
              "type": "dataframe",
              "variable_name": "apple_df",
              "summary": "{\n  \"name\": \"apple_df\",\n  \"rows\": 1257,\n  \"fields\": [\n    {\n      \"column\": \"Date\",\n      \"properties\": {\n        \"dtype\": \"date\",\n        \"min\": \"2020-03-30 00:00:00-04:00\",\n        \"max\": \"2025-03-28 00:00:00-04:00\",\n        \"num_unique_values\": 1257,\n        \"samples\": [\n          \"2021-12-17 00:00:00-05:00\",\n          \"2020-08-21 00:00:00-04:00\",\n          \"2020-06-11 00:00:00-04:00\"\n        ],\n        \"semantic_type\": \"\",\n        \"description\": \"\"\n      }\n    },\n    {\n      \"column\": \"Open\",\n      \"properties\": {\n        \"dtype\": \"number\",\n        \"std\": 41.22876068136844,\n        \"min\": 58.32547715782636,\n        \"max\": 257.90642916266114,\n        \"num_unique_values\": 1257,\n        \"samples\": [\n          167.00765577116044,\n          116.29271066660041,\n          84.99968556796321\n        ],\n        \"semantic_type\": \"\",\n        \"description\": \"\"\n      }\n    },\n    {\n      \"column\": \"High\",\n      \"properties\": {\n        \"dtype\": \"number\",\n        \"std\": 41.4887230836286,\n        \"min\": 59.49276269917482,\n        \"max\": 259.81433504408284,\n        \"num_unique_values\": 1257,\n        \"samples\": [\n          170.48678573043304,\n          121.7581423853081,\n          85.42552350785493\n        ],\n        \"semantic_type\": \"\",\n        \"description\": \"\"\n      }\n    },\n    {\n      \"column\": \"Low\",\n      \"properties\": {\n        \"dtype\": \"number\",\n        \"std\": 40.99704902020743,\n        \"min\": 57.49066070248686,\n        \"max\": 257.34704665632455,\n        \"num_unique_values\": 1256,\n        \"samples\": [\n          166.77179272061935,\n          116.28052490809851,\n          81.63435243044103\n        ],\n        \"semantic_type\": \"\",\n        \"description\": \"\"\n      }\n    },\n    {\n      \"column\": \"Close\",\n      \"properties\": {\n        \"dtype\": \"number\",\n        \"std\": 41.28091557553346,\n        \"min\": 58.463802337646484,\n        \"max\": 258.7355041503906,\n        \"num_unique_values\": 1242,\n        \"samples\": [\n          185.2875518798828,\n          174.21737670898438,\n          141.01048278808594\n        ],\n        \"semantic_type\": \"\",\n        \"description\": \"\"\n      }\n    },\n    {\n      \"column\": \"Volume\",\n      \"properties\": {\n        \"dtype\": \"number\",\n        \"std\": 43617312,\n        \"min\": 23234700,\n        \"max\": 374336800,\n        \"num_unique_values\": 1255,\n        \"samples\": [\n          55740700,\n          338054800,\n          201662400\n        ],\n        \"semantic_type\": \"\",\n        \"description\": \"\"\n      }\n    },\n    {\n      \"column\": \"Dividends\",\n      \"properties\": {\n        \"dtype\": \"number\",\n        \"std\": 0.02873406967883055,\n        \"min\": 0.0,\n        \"max\": 0.25,\n        \"num_unique_values\": 6,\n        \"samples\": [\n          0.0,\n          0.205,\n          0.25\n        ],\n        \"semantic_type\": \"\",\n        \"description\": \"\"\n      }\n    },\n    {\n      \"column\": \"Stock Splits\",\n      \"properties\": {\n        \"dtype\": \"number\",\n        \"std\": 0.11282162546530523,\n        \"min\": 0.0,\n        \"max\": 4.0,\n        \"num_unique_values\": 2,\n        \"samples\": [\n          4.0,\n          0.0\n        ],\n        \"semantic_type\": \"\",\n        \"description\": \"\"\n      }\n    }\n  ]\n}"
            }
          },
          "metadata": {},
          "execution_count": 2
        }
      ]
    },
    {
      "cell_type": "markdown",
      "source": [
        "# Preprocessing"
      ],
      "metadata": {
        "id": "OlVVI0YZt_GK"
      }
    },
    {
      "cell_type": "code",
      "source": [
        "#Dividing date to year, month and day columns, and resetting index\n",
        "apple_df.index = pd.to_datetime(apple_df.index)\n",
        "apple_df[\"Day_of_Week\"] = apple_df.index.dayofweek\n",
        "apple_df[\"Year\"] = apple_df.index.year\n",
        "apple_df[\"Month\"] = apple_df.index.month\n",
        "apple_df[\"Day\"] = apple_df.index.day\n",
        "apple_df = apple_df.reset_index(drop=True)"
      ],
      "metadata": {
        "id": "tcwiOAfuFguB"
      },
      "execution_count": 3,
      "outputs": []
    },
    {
      "cell_type": "code",
      "source": [
        "#Creating lags for Close price\n",
        "for lag in range(1, 62):\n",
        "    apple_df[f\"Close_lag_{lag}\"] = apple_df[\"Close\"].shift(lag)"
      ],
      "metadata": {
        "id": "StySMhpMFniA"
      },
      "execution_count": 4,
      "outputs": []
    },
    {
      "cell_type": "code",
      "source": [
        "#Getting to moving averages of previous days\n",
        "apple_df[\"Previous_MA_5\"] = apple_df[\"Close\"].rolling(window=5).mean()\n",
        "apple_df[\"Previous_MA_20\"] = apple_df[\"Close\"].rolling(window=20).mean()\n",
        "apple_df[\"Previous_MA_ratio\"] = apple_df[\"Previous_MA_5\"] / apple_df[\"Previous_MA_20\"]\n",
        "apple_df.drop(columns=[\"Dividends\",\"Stock Splits\"],inplace=True)\n",
        "apple_df.dropna(inplace=True)"
      ],
      "metadata": {
        "id": "pV6x4amOFsRo"
      },
      "execution_count": 5,
      "outputs": []
    },
    {
      "cell_type": "code",
      "source": [
        "apple_df"
      ],
      "metadata": {
        "colab": {
          "base_uri": "https://localhost:8080/",
          "height": 443
        },
        "id": "NRTIDMKdFu8x",
        "outputId": "7dde1439-f6cf-48c4-edaf-6e2ff5aa3786"
      },
      "execution_count": 6,
      "outputs": [
        {
          "output_type": "execute_result",
          "data": {
            "text/plain": [
              "            Open        High         Low       Close     Volume  Day_of_Week  \\\n",
              "61     87.771287   88.817629   87.009644   88.778694  137522400            3   \n",
              "62     88.674065   88.895502   85.902465   86.050903  205256800            4   \n",
              "63     85.958425   88.128985   85.479053   88.034081  130646000            0   \n",
              "64     87.620413   89.056101   87.600949   88.768959  140223200            1   \n",
              "65     88.846831   89.391901   88.552396   88.601059  110737200            2   \n",
              "...          ...         ...         ...         ...        ...          ...   \n",
              "1252  221.000000  221.479996  218.580002  220.729996   44299500            0   \n",
              "1253  220.770004  224.100006  220.080002  223.750000   34493600            1   \n",
              "1254  223.509995  225.020004  220.470001  221.529999   34466100            2   \n",
              "1255  221.389999  224.990005  220.559998  223.850006   37094800            3   \n",
              "1256  221.669998  223.809998  217.679993  217.899994   39818600            4   \n",
              "\n",
              "      Year  Month  Day  Close_lag_1  ...  Close_lag_55  Close_lag_56  \\\n",
              "61    2020      6   25    87.615532  ...     62.958221     63.695957   \n",
              "62    2020      6   26    88.778694  ...     64.569603     62.958221   \n",
              "63    2020      6   29    86.050903  ...     65.035530     64.569603   \n",
              "64    2020      6   30    88.034081  ...     66.312042     65.035530   \n",
              "65    2020      7    1    88.768959  ...     69.661003     66.312042   \n",
              "...    ...    ...  ...          ...  ...           ...           ...   \n",
              "1252  2025      3   24   218.270004  ...    250.144974    251.923019   \n",
              "1253  2025      3   25   220.729996  ...    243.582199    250.144974   \n",
              "1254  2025      3   26   223.750000  ...    243.092728    243.582199   \n",
              "1255  2025      3   27   221.529999  ...    244.730927    243.092728   \n",
              "1256  2025      3   28   223.850006  ...    241.944000    244.730927   \n",
              "\n",
              "      Close_lag_57  Close_lag_58  Close_lag_59  Close_lag_60  Close_lag_61  \\\n",
              "61       58.585136     59.439373     58.463802     61.710846     61.837048   \n",
              "62       63.695957     58.585136     59.439373     58.463802     61.710846   \n",
              "63       62.958221     63.695957     58.585136     59.439373     58.463802   \n",
              "64       64.569603     62.958221     63.695957     58.585136     59.439373   \n",
              "65       65.035530     64.569603     62.958221     63.695957     58.585136   \n",
              "...            ...           ...           ...           ...           ...   \n",
              "1252    255.309296    258.735504    257.916443    254.989655    254.210510   \n",
              "1253    251.923019    255.309296    258.735504    257.916443    254.989655   \n",
              "1254    250.144974    251.923019    255.309296    258.735504    257.916443   \n",
              "1255    243.582199    250.144974    251.923019    255.309296    258.735504   \n",
              "1256    243.092728    243.582199    250.144974    251.923019    255.309296   \n",
              "\n",
              "      Previous_MA_5  Previous_MA_20  Previous_MA_ratio  \n",
              "61        87.601917       83.287448           1.051802  \n",
              "62        87.792207       83.721682           1.048620  \n",
              "63        87.933830       84.207501           1.044252  \n",
              "64        87.849634       84.711937           1.037040  \n",
              "65        88.046739       85.186322           1.033578  \n",
              "...             ...             ...                ...  \n",
              "1252     216.206003      226.707000           0.953680  \n",
              "1253     218.418002      225.542500           0.968412  \n",
              "1254     219.676001      224.601000           0.978072  \n",
              "1255     221.626001      223.928500           0.989718  \n",
              "1256     221.551999      222.731500           0.994704  \n",
              "\n",
              "[1196 rows x 73 columns]"
            ],
            "text/html": [
              "\n",
              "  <div id=\"df-5ca61c6a-84d8-47b9-b34c-74da8cb93642\" class=\"colab-df-container\">\n",
              "    <div>\n",
              "<style scoped>\n",
              "    .dataframe tbody tr th:only-of-type {\n",
              "        vertical-align: middle;\n",
              "    }\n",
              "\n",
              "    .dataframe tbody tr th {\n",
              "        vertical-align: top;\n",
              "    }\n",
              "\n",
              "    .dataframe thead th {\n",
              "        text-align: right;\n",
              "    }\n",
              "</style>\n",
              "<table border=\"1\" class=\"dataframe\">\n",
              "  <thead>\n",
              "    <tr style=\"text-align: right;\">\n",
              "      <th></th>\n",
              "      <th>Open</th>\n",
              "      <th>High</th>\n",
              "      <th>Low</th>\n",
              "      <th>Close</th>\n",
              "      <th>Volume</th>\n",
              "      <th>Day_of_Week</th>\n",
              "      <th>Year</th>\n",
              "      <th>Month</th>\n",
              "      <th>Day</th>\n",
              "      <th>Close_lag_1</th>\n",
              "      <th>...</th>\n",
              "      <th>Close_lag_55</th>\n",
              "      <th>Close_lag_56</th>\n",
              "      <th>Close_lag_57</th>\n",
              "      <th>Close_lag_58</th>\n",
              "      <th>Close_lag_59</th>\n",
              "      <th>Close_lag_60</th>\n",
              "      <th>Close_lag_61</th>\n",
              "      <th>Previous_MA_5</th>\n",
              "      <th>Previous_MA_20</th>\n",
              "      <th>Previous_MA_ratio</th>\n",
              "    </tr>\n",
              "  </thead>\n",
              "  <tbody>\n",
              "    <tr>\n",
              "      <th>61</th>\n",
              "      <td>87.771287</td>\n",
              "      <td>88.817629</td>\n",
              "      <td>87.009644</td>\n",
              "      <td>88.778694</td>\n",
              "      <td>137522400</td>\n",
              "      <td>3</td>\n",
              "      <td>2020</td>\n",
              "      <td>6</td>\n",
              "      <td>25</td>\n",
              "      <td>87.615532</td>\n",
              "      <td>...</td>\n",
              "      <td>62.958221</td>\n",
              "      <td>63.695957</td>\n",
              "      <td>58.585136</td>\n",
              "      <td>59.439373</td>\n",
              "      <td>58.463802</td>\n",
              "      <td>61.710846</td>\n",
              "      <td>61.837048</td>\n",
              "      <td>87.601917</td>\n",
              "      <td>83.287448</td>\n",
              "      <td>1.051802</td>\n",
              "    </tr>\n",
              "    <tr>\n",
              "      <th>62</th>\n",
              "      <td>88.674065</td>\n",
              "      <td>88.895502</td>\n",
              "      <td>85.902465</td>\n",
              "      <td>86.050903</td>\n",
              "      <td>205256800</td>\n",
              "      <td>4</td>\n",
              "      <td>2020</td>\n",
              "      <td>6</td>\n",
              "      <td>26</td>\n",
              "      <td>88.778694</td>\n",
              "      <td>...</td>\n",
              "      <td>64.569603</td>\n",
              "      <td>62.958221</td>\n",
              "      <td>63.695957</td>\n",
              "      <td>58.585136</td>\n",
              "      <td>59.439373</td>\n",
              "      <td>58.463802</td>\n",
              "      <td>61.710846</td>\n",
              "      <td>87.792207</td>\n",
              "      <td>83.721682</td>\n",
              "      <td>1.048620</td>\n",
              "    </tr>\n",
              "    <tr>\n",
              "      <th>63</th>\n",
              "      <td>85.958425</td>\n",
              "      <td>88.128985</td>\n",
              "      <td>85.479053</td>\n",
              "      <td>88.034081</td>\n",
              "      <td>130646000</td>\n",
              "      <td>0</td>\n",
              "      <td>2020</td>\n",
              "      <td>6</td>\n",
              "      <td>29</td>\n",
              "      <td>86.050903</td>\n",
              "      <td>...</td>\n",
              "      <td>65.035530</td>\n",
              "      <td>64.569603</td>\n",
              "      <td>62.958221</td>\n",
              "      <td>63.695957</td>\n",
              "      <td>58.585136</td>\n",
              "      <td>59.439373</td>\n",
              "      <td>58.463802</td>\n",
              "      <td>87.933830</td>\n",
              "      <td>84.207501</td>\n",
              "      <td>1.044252</td>\n",
              "    </tr>\n",
              "    <tr>\n",
              "      <th>64</th>\n",
              "      <td>87.620413</td>\n",
              "      <td>89.056101</td>\n",
              "      <td>87.600949</td>\n",
              "      <td>88.768959</td>\n",
              "      <td>140223200</td>\n",
              "      <td>1</td>\n",
              "      <td>2020</td>\n",
              "      <td>6</td>\n",
              "      <td>30</td>\n",
              "      <td>88.034081</td>\n",
              "      <td>...</td>\n",
              "      <td>66.312042</td>\n",
              "      <td>65.035530</td>\n",
              "      <td>64.569603</td>\n",
              "      <td>62.958221</td>\n",
              "      <td>63.695957</td>\n",
              "      <td>58.585136</td>\n",
              "      <td>59.439373</td>\n",
              "      <td>87.849634</td>\n",
              "      <td>84.711937</td>\n",
              "      <td>1.037040</td>\n",
              "    </tr>\n",
              "    <tr>\n",
              "      <th>65</th>\n",
              "      <td>88.846831</td>\n",
              "      <td>89.391901</td>\n",
              "      <td>88.552396</td>\n",
              "      <td>88.601059</td>\n",
              "      <td>110737200</td>\n",
              "      <td>2</td>\n",
              "      <td>2020</td>\n",
              "      <td>7</td>\n",
              "      <td>1</td>\n",
              "      <td>88.768959</td>\n",
              "      <td>...</td>\n",
              "      <td>69.661003</td>\n",
              "      <td>66.312042</td>\n",
              "      <td>65.035530</td>\n",
              "      <td>64.569603</td>\n",
              "      <td>62.958221</td>\n",
              "      <td>63.695957</td>\n",
              "      <td>58.585136</td>\n",
              "      <td>88.046739</td>\n",
              "      <td>85.186322</td>\n",
              "      <td>1.033578</td>\n",
              "    </tr>\n",
              "    <tr>\n",
              "      <th>...</th>\n",
              "      <td>...</td>\n",
              "      <td>...</td>\n",
              "      <td>...</td>\n",
              "      <td>...</td>\n",
              "      <td>...</td>\n",
              "      <td>...</td>\n",
              "      <td>...</td>\n",
              "      <td>...</td>\n",
              "      <td>...</td>\n",
              "      <td>...</td>\n",
              "      <td>...</td>\n",
              "      <td>...</td>\n",
              "      <td>...</td>\n",
              "      <td>...</td>\n",
              "      <td>...</td>\n",
              "      <td>...</td>\n",
              "      <td>...</td>\n",
              "      <td>...</td>\n",
              "      <td>...</td>\n",
              "      <td>...</td>\n",
              "      <td>...</td>\n",
              "    </tr>\n",
              "    <tr>\n",
              "      <th>1252</th>\n",
              "      <td>221.000000</td>\n",
              "      <td>221.479996</td>\n",
              "      <td>218.580002</td>\n",
              "      <td>220.729996</td>\n",
              "      <td>44299500</td>\n",
              "      <td>0</td>\n",
              "      <td>2025</td>\n",
              "      <td>3</td>\n",
              "      <td>24</td>\n",
              "      <td>218.270004</td>\n",
              "      <td>...</td>\n",
              "      <td>250.144974</td>\n",
              "      <td>251.923019</td>\n",
              "      <td>255.309296</td>\n",
              "      <td>258.735504</td>\n",
              "      <td>257.916443</td>\n",
              "      <td>254.989655</td>\n",
              "      <td>254.210510</td>\n",
              "      <td>216.206003</td>\n",
              "      <td>226.707000</td>\n",
              "      <td>0.953680</td>\n",
              "    </tr>\n",
              "    <tr>\n",
              "      <th>1253</th>\n",
              "      <td>220.770004</td>\n",
              "      <td>224.100006</td>\n",
              "      <td>220.080002</td>\n",
              "      <td>223.750000</td>\n",
              "      <td>34493600</td>\n",
              "      <td>1</td>\n",
              "      <td>2025</td>\n",
              "      <td>3</td>\n",
              "      <td>25</td>\n",
              "      <td>220.729996</td>\n",
              "      <td>...</td>\n",
              "      <td>243.582199</td>\n",
              "      <td>250.144974</td>\n",
              "      <td>251.923019</td>\n",
              "      <td>255.309296</td>\n",
              "      <td>258.735504</td>\n",
              "      <td>257.916443</td>\n",
              "      <td>254.989655</td>\n",
              "      <td>218.418002</td>\n",
              "      <td>225.542500</td>\n",
              "      <td>0.968412</td>\n",
              "    </tr>\n",
              "    <tr>\n",
              "      <th>1254</th>\n",
              "      <td>223.509995</td>\n",
              "      <td>225.020004</td>\n",
              "      <td>220.470001</td>\n",
              "      <td>221.529999</td>\n",
              "      <td>34466100</td>\n",
              "      <td>2</td>\n",
              "      <td>2025</td>\n",
              "      <td>3</td>\n",
              "      <td>26</td>\n",
              "      <td>223.750000</td>\n",
              "      <td>...</td>\n",
              "      <td>243.092728</td>\n",
              "      <td>243.582199</td>\n",
              "      <td>250.144974</td>\n",
              "      <td>251.923019</td>\n",
              "      <td>255.309296</td>\n",
              "      <td>258.735504</td>\n",
              "      <td>257.916443</td>\n",
              "      <td>219.676001</td>\n",
              "      <td>224.601000</td>\n",
              "      <td>0.978072</td>\n",
              "    </tr>\n",
              "    <tr>\n",
              "      <th>1255</th>\n",
              "      <td>221.389999</td>\n",
              "      <td>224.990005</td>\n",
              "      <td>220.559998</td>\n",
              "      <td>223.850006</td>\n",
              "      <td>37094800</td>\n",
              "      <td>3</td>\n",
              "      <td>2025</td>\n",
              "      <td>3</td>\n",
              "      <td>27</td>\n",
              "      <td>221.529999</td>\n",
              "      <td>...</td>\n",
              "      <td>244.730927</td>\n",
              "      <td>243.092728</td>\n",
              "      <td>243.582199</td>\n",
              "      <td>250.144974</td>\n",
              "      <td>251.923019</td>\n",
              "      <td>255.309296</td>\n",
              "      <td>258.735504</td>\n",
              "      <td>221.626001</td>\n",
              "      <td>223.928500</td>\n",
              "      <td>0.989718</td>\n",
              "    </tr>\n",
              "    <tr>\n",
              "      <th>1256</th>\n",
              "      <td>221.669998</td>\n",
              "      <td>223.809998</td>\n",
              "      <td>217.679993</td>\n",
              "      <td>217.899994</td>\n",
              "      <td>39818600</td>\n",
              "      <td>4</td>\n",
              "      <td>2025</td>\n",
              "      <td>3</td>\n",
              "      <td>28</td>\n",
              "      <td>223.850006</td>\n",
              "      <td>...</td>\n",
              "      <td>241.944000</td>\n",
              "      <td>244.730927</td>\n",
              "      <td>243.092728</td>\n",
              "      <td>243.582199</td>\n",
              "      <td>250.144974</td>\n",
              "      <td>251.923019</td>\n",
              "      <td>255.309296</td>\n",
              "      <td>221.551999</td>\n",
              "      <td>222.731500</td>\n",
              "      <td>0.994704</td>\n",
              "    </tr>\n",
              "  </tbody>\n",
              "</table>\n",
              "<p>1196 rows × 73 columns</p>\n",
              "</div>\n",
              "    <div class=\"colab-df-buttons\">\n",
              "\n",
              "  <div class=\"colab-df-container\">\n",
              "    <button class=\"colab-df-convert\" onclick=\"convertToInteractive('df-5ca61c6a-84d8-47b9-b34c-74da8cb93642')\"\n",
              "            title=\"Convert this dataframe to an interactive table.\"\n",
              "            style=\"display:none;\">\n",
              "\n",
              "  <svg xmlns=\"http://www.w3.org/2000/svg\" height=\"24px\" viewBox=\"0 -960 960 960\">\n",
              "    <path d=\"M120-120v-720h720v720H120Zm60-500h600v-160H180v160Zm220 220h160v-160H400v160Zm0 220h160v-160H400v160ZM180-400h160v-160H180v160Zm440 0h160v-160H620v160ZM180-180h160v-160H180v160Zm440 0h160v-160H620v160Z\"/>\n",
              "  </svg>\n",
              "    </button>\n",
              "\n",
              "  <style>\n",
              "    .colab-df-container {\n",
              "      display:flex;\n",
              "      gap: 12px;\n",
              "    }\n",
              "\n",
              "    .colab-df-convert {\n",
              "      background-color: #E8F0FE;\n",
              "      border: none;\n",
              "      border-radius: 50%;\n",
              "      cursor: pointer;\n",
              "      display: none;\n",
              "      fill: #1967D2;\n",
              "      height: 32px;\n",
              "      padding: 0 0 0 0;\n",
              "      width: 32px;\n",
              "    }\n",
              "\n",
              "    .colab-df-convert:hover {\n",
              "      background-color: #E2EBFA;\n",
              "      box-shadow: 0px 1px 2px rgba(60, 64, 67, 0.3), 0px 1px 3px 1px rgba(60, 64, 67, 0.15);\n",
              "      fill: #174EA6;\n",
              "    }\n",
              "\n",
              "    .colab-df-buttons div {\n",
              "      margin-bottom: 4px;\n",
              "    }\n",
              "\n",
              "    [theme=dark] .colab-df-convert {\n",
              "      background-color: #3B4455;\n",
              "      fill: #D2E3FC;\n",
              "    }\n",
              "\n",
              "    [theme=dark] .colab-df-convert:hover {\n",
              "      background-color: #434B5C;\n",
              "      box-shadow: 0px 1px 3px 1px rgba(0, 0, 0, 0.15);\n",
              "      filter: drop-shadow(0px 1px 2px rgba(0, 0, 0, 0.3));\n",
              "      fill: #FFFFFF;\n",
              "    }\n",
              "  </style>\n",
              "\n",
              "    <script>\n",
              "      const buttonEl =\n",
              "        document.querySelector('#df-5ca61c6a-84d8-47b9-b34c-74da8cb93642 button.colab-df-convert');\n",
              "      buttonEl.style.display =\n",
              "        google.colab.kernel.accessAllowed ? 'block' : 'none';\n",
              "\n",
              "      async function convertToInteractive(key) {\n",
              "        const element = document.querySelector('#df-5ca61c6a-84d8-47b9-b34c-74da8cb93642');\n",
              "        const dataTable =\n",
              "          await google.colab.kernel.invokeFunction('convertToInteractive',\n",
              "                                                    [key], {});\n",
              "        if (!dataTable) return;\n",
              "\n",
              "        const docLinkHtml = 'Like what you see? Visit the ' +\n",
              "          '<a target=\"_blank\" href=https://colab.research.google.com/notebooks/data_table.ipynb>data table notebook</a>'\n",
              "          + ' to learn more about interactive tables.';\n",
              "        element.innerHTML = '';\n",
              "        dataTable['output_type'] = 'display_data';\n",
              "        await google.colab.output.renderOutput(dataTable, element);\n",
              "        const docLink = document.createElement('div');\n",
              "        docLink.innerHTML = docLinkHtml;\n",
              "        element.appendChild(docLink);\n",
              "      }\n",
              "    </script>\n",
              "  </div>\n",
              "\n",
              "\n",
              "<div id=\"df-15e2ba77-6b86-478a-8727-bb6d7835a86d\">\n",
              "  <button class=\"colab-df-quickchart\" onclick=\"quickchart('df-15e2ba77-6b86-478a-8727-bb6d7835a86d')\"\n",
              "            title=\"Suggest charts\"\n",
              "            style=\"display:none;\">\n",
              "\n",
              "<svg xmlns=\"http://www.w3.org/2000/svg\" height=\"24px\"viewBox=\"0 0 24 24\"\n",
              "     width=\"24px\">\n",
              "    <g>\n",
              "        <path d=\"M19 3H5c-1.1 0-2 .9-2 2v14c0 1.1.9 2 2 2h14c1.1 0 2-.9 2-2V5c0-1.1-.9-2-2-2zM9 17H7v-7h2v7zm4 0h-2V7h2v10zm4 0h-2v-4h2v4z\"/>\n",
              "    </g>\n",
              "</svg>\n",
              "  </button>\n",
              "\n",
              "<style>\n",
              "  .colab-df-quickchart {\n",
              "      --bg-color: #E8F0FE;\n",
              "      --fill-color: #1967D2;\n",
              "      --hover-bg-color: #E2EBFA;\n",
              "      --hover-fill-color: #174EA6;\n",
              "      --disabled-fill-color: #AAA;\n",
              "      --disabled-bg-color: #DDD;\n",
              "  }\n",
              "\n",
              "  [theme=dark] .colab-df-quickchart {\n",
              "      --bg-color: #3B4455;\n",
              "      --fill-color: #D2E3FC;\n",
              "      --hover-bg-color: #434B5C;\n",
              "      --hover-fill-color: #FFFFFF;\n",
              "      --disabled-bg-color: #3B4455;\n",
              "      --disabled-fill-color: #666;\n",
              "  }\n",
              "\n",
              "  .colab-df-quickchart {\n",
              "    background-color: var(--bg-color);\n",
              "    border: none;\n",
              "    border-radius: 50%;\n",
              "    cursor: pointer;\n",
              "    display: none;\n",
              "    fill: var(--fill-color);\n",
              "    height: 32px;\n",
              "    padding: 0;\n",
              "    width: 32px;\n",
              "  }\n",
              "\n",
              "  .colab-df-quickchart:hover {\n",
              "    background-color: var(--hover-bg-color);\n",
              "    box-shadow: 0 1px 2px rgba(60, 64, 67, 0.3), 0 1px 3px 1px rgba(60, 64, 67, 0.15);\n",
              "    fill: var(--button-hover-fill-color);\n",
              "  }\n",
              "\n",
              "  .colab-df-quickchart-complete:disabled,\n",
              "  .colab-df-quickchart-complete:disabled:hover {\n",
              "    background-color: var(--disabled-bg-color);\n",
              "    fill: var(--disabled-fill-color);\n",
              "    box-shadow: none;\n",
              "  }\n",
              "\n",
              "  .colab-df-spinner {\n",
              "    border: 2px solid var(--fill-color);\n",
              "    border-color: transparent;\n",
              "    border-bottom-color: var(--fill-color);\n",
              "    animation:\n",
              "      spin 1s steps(1) infinite;\n",
              "  }\n",
              "\n",
              "  @keyframes spin {\n",
              "    0% {\n",
              "      border-color: transparent;\n",
              "      border-bottom-color: var(--fill-color);\n",
              "      border-left-color: var(--fill-color);\n",
              "    }\n",
              "    20% {\n",
              "      border-color: transparent;\n",
              "      border-left-color: var(--fill-color);\n",
              "      border-top-color: var(--fill-color);\n",
              "    }\n",
              "    30% {\n",
              "      border-color: transparent;\n",
              "      border-left-color: var(--fill-color);\n",
              "      border-top-color: var(--fill-color);\n",
              "      border-right-color: var(--fill-color);\n",
              "    }\n",
              "    40% {\n",
              "      border-color: transparent;\n",
              "      border-right-color: var(--fill-color);\n",
              "      border-top-color: var(--fill-color);\n",
              "    }\n",
              "    60% {\n",
              "      border-color: transparent;\n",
              "      border-right-color: var(--fill-color);\n",
              "    }\n",
              "    80% {\n",
              "      border-color: transparent;\n",
              "      border-right-color: var(--fill-color);\n",
              "      border-bottom-color: var(--fill-color);\n",
              "    }\n",
              "    90% {\n",
              "      border-color: transparent;\n",
              "      border-bottom-color: var(--fill-color);\n",
              "    }\n",
              "  }\n",
              "</style>\n",
              "\n",
              "  <script>\n",
              "    async function quickchart(key) {\n",
              "      const quickchartButtonEl =\n",
              "        document.querySelector('#' + key + ' button');\n",
              "      quickchartButtonEl.disabled = true;  // To prevent multiple clicks.\n",
              "      quickchartButtonEl.classList.add('colab-df-spinner');\n",
              "      try {\n",
              "        const charts = await google.colab.kernel.invokeFunction(\n",
              "            'suggestCharts', [key], {});\n",
              "      } catch (error) {\n",
              "        console.error('Error during call to suggestCharts:', error);\n",
              "      }\n",
              "      quickchartButtonEl.classList.remove('colab-df-spinner');\n",
              "      quickchartButtonEl.classList.add('colab-df-quickchart-complete');\n",
              "    }\n",
              "    (() => {\n",
              "      let quickchartButtonEl =\n",
              "        document.querySelector('#df-15e2ba77-6b86-478a-8727-bb6d7835a86d button');\n",
              "      quickchartButtonEl.style.display =\n",
              "        google.colab.kernel.accessAllowed ? 'block' : 'none';\n",
              "    })();\n",
              "  </script>\n",
              "</div>\n",
              "\n",
              "  <div id=\"id_edc2a2b8-2454-4b21-a01b-db9000e4fa55\">\n",
              "    <style>\n",
              "      .colab-df-generate {\n",
              "        background-color: #E8F0FE;\n",
              "        border: none;\n",
              "        border-radius: 50%;\n",
              "        cursor: pointer;\n",
              "        display: none;\n",
              "        fill: #1967D2;\n",
              "        height: 32px;\n",
              "        padding: 0 0 0 0;\n",
              "        width: 32px;\n",
              "      }\n",
              "\n",
              "      .colab-df-generate:hover {\n",
              "        background-color: #E2EBFA;\n",
              "        box-shadow: 0px 1px 2px rgba(60, 64, 67, 0.3), 0px 1px 3px 1px rgba(60, 64, 67, 0.15);\n",
              "        fill: #174EA6;\n",
              "      }\n",
              "\n",
              "      [theme=dark] .colab-df-generate {\n",
              "        background-color: #3B4455;\n",
              "        fill: #D2E3FC;\n",
              "      }\n",
              "\n",
              "      [theme=dark] .colab-df-generate:hover {\n",
              "        background-color: #434B5C;\n",
              "        box-shadow: 0px 1px 3px 1px rgba(0, 0, 0, 0.15);\n",
              "        filter: drop-shadow(0px 1px 2px rgba(0, 0, 0, 0.3));\n",
              "        fill: #FFFFFF;\n",
              "      }\n",
              "    </style>\n",
              "    <button class=\"colab-df-generate\" onclick=\"generateWithVariable('apple_df')\"\n",
              "            title=\"Generate code using this dataframe.\"\n",
              "            style=\"display:none;\">\n",
              "\n",
              "  <svg xmlns=\"http://www.w3.org/2000/svg\" height=\"24px\"viewBox=\"0 0 24 24\"\n",
              "       width=\"24px\">\n",
              "    <path d=\"M7,19H8.4L18.45,9,17,7.55,7,17.6ZM5,21V16.75L18.45,3.32a2,2,0,0,1,2.83,0l1.4,1.43a1.91,1.91,0,0,1,.58,1.4,1.91,1.91,0,0,1-.58,1.4L9.25,21ZM18.45,9,17,7.55Zm-12,3A5.31,5.31,0,0,0,4.9,8.1,5.31,5.31,0,0,0,1,6.5,5.31,5.31,0,0,0,4.9,4.9,5.31,5.31,0,0,0,6.5,1,5.31,5.31,0,0,0,8.1,4.9,5.31,5.31,0,0,0,12,6.5,5.46,5.46,0,0,0,6.5,12Z\"/>\n",
              "  </svg>\n",
              "    </button>\n",
              "    <script>\n",
              "      (() => {\n",
              "      const buttonEl =\n",
              "        document.querySelector('#id_edc2a2b8-2454-4b21-a01b-db9000e4fa55 button.colab-df-generate');\n",
              "      buttonEl.style.display =\n",
              "        google.colab.kernel.accessAllowed ? 'block' : 'none';\n",
              "\n",
              "      buttonEl.onclick = () => {\n",
              "        google.colab.notebook.generateWithVariable('apple_df');\n",
              "      }\n",
              "      })();\n",
              "    </script>\n",
              "  </div>\n",
              "\n",
              "    </div>\n",
              "  </div>\n"
            ],
            "application/vnd.google.colaboratory.intrinsic+json": {
              "type": "dataframe",
              "variable_name": "apple_df"
            }
          },
          "metadata": {},
          "execution_count": 6
        }
      ]
    },
    {
      "cell_type": "markdown",
      "source": [
        "## Functions"
      ],
      "metadata": {
        "id": "nkpageFtuB4J"
      }
    },
    {
      "cell_type": "code",
      "source": [
        "def create_sequences(data: np.ndarray, seq_length: int):\n",
        "    X, y = [], []\n",
        "    for i in range(seq_length, len(data)):\n",
        "        X.append(data[i - seq_length:i])\n",
        "        y.append(data[i])\n",
        "    return np.array(X), np.array(y)"
      ],
      "metadata": {
        "id": "WfbK40LRHc7_"
      },
      "execution_count": 7,
      "outputs": []
    },
    {
      "cell_type": "code",
      "source": [
        "def train_val_test_split(X: np.ndarray, y: np.ndarray,\n",
        "                         train_ratio: float = 0.8,\n",
        "                         val_ratio: float = 0.10):\n",
        "\n",
        "    total = len(X)\n",
        "    train_end = int(total * train_ratio)\n",
        "    val_end = train_end + int(total * val_ratio)\n",
        "\n",
        "    X_train, y_train = X[:train_end], y[:train_end]\n",
        "    X_val, y_val = X[train_end:val_end], y[train_end:val_end]\n",
        "    X_test, y_test = X[val_end:], y[val_end:]\n",
        "\n",
        "    return X_train, y_train, X_val, y_val, X_test, y_test"
      ],
      "metadata": {
        "id": "TzDPaAvbUyNM"
      },
      "execution_count": 8,
      "outputs": []
    },
    {
      "cell_type": "code",
      "source": [
        "def prepare_rnn_data(df: pd.DataFrame,\n",
        "                     target_col: str = 'Close',\n",
        "                     use_all_features: bool = False,\n",
        "                     seq_length: int = 60):\n",
        "\n",
        "    y_values = df[target_col].values\n",
        "\n",
        "    if use_all_features:\n",
        "        X_raw = df.values\n",
        "    else:\n",
        "        X_raw = df[[target_col]].values\n",
        "\n",
        "    X_seq, y_seq = create_sequences(X_raw, seq_length)\n",
        "    y_seq = y_values[seq_length:]\n",
        "\n",
        "    return train_val_test_split(X_seq, y_seq)"
      ],
      "metadata": {
        "id": "U5z-SEQ6kjP6"
      },
      "execution_count": 9,
      "outputs": []
    },
    {
      "cell_type": "code",
      "source": [
        "X_train, y_train, X_val, y_val, X_test, y_test = prepare_rnn_data(\n",
        "    apple_df,\n",
        "    target_col='Close',\n",
        "    use_all_features=False,\n",
        "    seq_length=60\n",
        ")"
      ],
      "metadata": {
        "id": "wODTDaUKGGlo"
      },
      "execution_count": 10,
      "outputs": []
    },
    {
      "cell_type": "code",
      "source": [
        "X_test"
      ],
      "metadata": {
        "colab": {
          "base_uri": "https://localhost:8080/"
        },
        "id": "21_myorUVioz",
        "outputId": "5907f56e-587f-4504-fed2-0691b0d2c232"
      },
      "execution_count": 11,
      "outputs": [
        {
          "output_type": "execute_result",
          "data": {
            "text/plain": [
              "array([[[223.42906189],\n",
              "        [223.55862427],\n",
              "        [223.20980835],\n",
              "        ...,\n",
              "        [225.27420044],\n",
              "        [229.03591919],\n",
              "        [228.53701782]],\n",
              "\n",
              "       [[223.55862427],\n",
              "        [223.20980835],\n",
              "        [224.25628662],\n",
              "        ...,\n",
              "        [229.03591919],\n",
              "        [228.53701782],\n",
              "        [227.05029297]],\n",
              "\n",
              "       [[223.20980835],\n",
              "        [224.25628662],\n",
              "        [217.80795288],\n",
              "        ...,\n",
              "        [228.53701782],\n",
              "        [227.05029297],\n",
              "        [230.79205322]],\n",
              "\n",
              "       ...,\n",
              "\n",
              "       [[258.73550415],\n",
              "        [255.30929565],\n",
              "        [251.92301941],\n",
              "        ...,\n",
              "        [218.27000427],\n",
              "        [220.72999573],\n",
              "        [223.75      ]],\n",
              "\n",
              "       [[255.30929565],\n",
              "        [251.92301941],\n",
              "        [250.14497375],\n",
              "        ...,\n",
              "        [220.72999573],\n",
              "        [223.75      ],\n",
              "        [221.52999878]],\n",
              "\n",
              "       [[251.92301941],\n",
              "        [250.14497375],\n",
              "        [243.5821991 ],\n",
              "        ...,\n",
              "        [223.75      ],\n",
              "        [221.52999878],\n",
              "        [223.8500061 ]]])"
            ]
          },
          "metadata": {},
          "execution_count": 11
        }
      ]
    },
    {
      "cell_type": "code",
      "source": [
        "y_test"
      ],
      "metadata": {
        "colab": {
          "base_uri": "https://localhost:8080/"
        },
        "id": "OkVttusDVj_M",
        "outputId": "9718e287-75e3-458b-8086-e7f628b6afcb"
      },
      "execution_count": 12,
      "outputs": [
        {
          "output_type": "execute_result",
          "data": {
            "text/plain": [
              "array([227.05029297, 230.79205322, 233.3364563 , 231.27099609,\n",
              "       231.6401825 , 234.48391724, 235.9606781 , 235.34204102,\n",
              "       230.25323486, 230.06367493, 230.90180969, 232.88743591,\n",
              "       233.15684509, 229.59468079, 225.41389465, 222.42047119,\n",
              "       221.52244568, 222.95928955, 222.230896  , 226.98043823,\n",
              "       226.71073914, 223.98373413, 223.98373413, 224.87275696,\n",
              "       227.96936035, 224.75288391, 227.76957703, 228.02928162,\n",
              "       228.74848938, 228.26902771, 229.61753845, 232.61424255,\n",
              "       234.80183411, 234.67198181, 237.0693512 , 239.32685852,\n",
              "       242.38349915, 242.74310303, 242.77307129, 242.57328796,\n",
              "       246.47900391, 247.49787903, 246.21928406, 247.68768311,\n",
              "       247.85748291, 250.76428223, 253.20159912, 247.77757263,\n",
              "       249.51565552, 254.21051025, 254.98965454, 257.91644287,\n",
              "       258.73550415, 255.30929565, 251.92301941, 250.14497375,\n",
              "       243.5821991 , 243.09272766, 244.73092651, 241.94400024,\n",
              "       242.43344116, 236.58987427, 234.14256287, 233.02378845,\n",
              "       237.60874939, 228.00930786, 229.72741699, 222.39547729,\n",
              "       223.58416748, 223.41436768, 222.5353241 , 229.60754395,\n",
              "       237.99832153, 239.09712219, 237.32905579, 235.74081421,\n",
              "       227.75958252, 232.54432678, 232.21469116, 232.96386719,\n",
              "       227.38000488, 227.6499939 , 232.61999512, 236.86999512,\n",
              "       241.52999878, 244.6000061 , 244.47000122, 244.86999512,\n",
              "       245.83000183, 245.55000305, 247.1000061 , 247.03999329,\n",
              "       240.36000061, 237.30000305, 241.83999634, 238.02999878,\n",
              "       235.92999268, 235.74000549, 235.33000183, 239.07000732,\n",
              "       227.47999573, 220.83999634, 216.97999573, 209.67999268,\n",
              "       213.49000549, 214.        , 212.69000244, 215.24000549,\n",
              "       214.1000061 , 218.27000427, 220.72999573, 223.75      ,\n",
              "       221.52999878, 223.8500061 , 217.8999939 ])"
            ]
          },
          "metadata": {},
          "execution_count": 12
        }
      ]
    },
    {
      "cell_type": "code",
      "source": [
        "print(\"Train shape:\", X_train.shape)\n",
        "print(\"Val shape:\", X_val.shape)\n",
        "print(\"Test shape:\", X_test.shape)"
      ],
      "metadata": {
        "colab": {
          "base_uri": "https://localhost:8080/"
        },
        "id": "gxrgs5ZuVnW0",
        "outputId": "b005020e-10ea-4da9-f08f-957c08796766"
      },
      "execution_count": 13,
      "outputs": [
        {
          "output_type": "stream",
          "name": "stdout",
          "text": [
            "Train shape: (908, 60, 1)\n",
            "Val shape: (113, 60, 1)\n",
            "Test shape: (115, 60, 1)\n"
          ]
        }
      ]
    },
    {
      "cell_type": "markdown",
      "source": [
        "## Scaler"
      ],
      "metadata": {
        "id": "z9_VnFywuFmp"
      }
    },
    {
      "cell_type": "code",
      "source": [
        "from sklearn.preprocessing import MinMaxScaler\n",
        "x_scaler = MinMaxScaler(feature_range=(0, 1))\n",
        "X_train_scaled = x_scaler.fit_transform(X_train.reshape(-1, X_train.shape[-1])).reshape(X_train.shape)\n",
        "X_val_scaled = x_scaler.transform(X_val.reshape(-1, X_val.shape[-1])).reshape(X_val.shape)\n",
        "X_test_scaled = x_scaler.transform(X_test.reshape(-1, X_test.shape[-1])).reshape(X_test.shape)"
      ],
      "metadata": {
        "id": "dlLrCbW5kWE6"
      },
      "execution_count": 14,
      "outputs": []
    },
    {
      "cell_type": "code",
      "source": [
        "y_scaler = MinMaxScaler(feature_range=(0, 1))\n",
        "y_train_scaled = y_scaler.fit_transform(y_train.reshape(-1, 1))\n",
        "y_val_scaled = y_scaler.transform(y_val.reshape(-1, 1))\n",
        "y_test_scaled = y_scaler.transform(y_test.reshape(-1, 1))"
      ],
      "metadata": {
        "id": "HKcxBc5OmQTB"
      },
      "execution_count": 15,
      "outputs": []
    },
    {
      "cell_type": "markdown",
      "source": [
        "# RNN Models, Only Close Feature"
      ],
      "metadata": {
        "id": "nvT89Vi3uHcq"
      }
    },
    {
      "cell_type": "code",
      "source": [
        "from tensorflow.keras.layers import SimpleRNN, Dense, Dropout\n",
        "from tensorflow.keras.models import Sequential\n",
        "from tensorflow.keras.callbacks import EarlyStopping"
      ],
      "metadata": {
        "id": "kTIgN8dVqo-N"
      },
      "execution_count": 16,
      "outputs": []
    },
    {
      "cell_type": "code",
      "source": [
        "model_RNN_1 = Sequential(\n",
        "    [\n",
        "        SimpleRNN(units=64, return_sequences=True,input_shape=(X_train_scaled.shape[1], X_train_scaled.shape[2])),\n",
        "        Dropout(0.2),\n",
        "        SimpleRNN(units=32),\n",
        "        Dropout(0.2),\n",
        "        Dense(1)\n",
        "    ]\n",
        ")\n",
        "\n",
        "model_RNN_1.compile(optimizer='adam',loss='mse',metrics=['mse'])"
      ],
      "metadata": {
        "colab": {
          "base_uri": "https://localhost:8080/"
        },
        "id": "Kwu_LjQoqxQe",
        "outputId": "b4c04f8a-95da-41d4-a603-5327cdb0bf26"
      },
      "execution_count": 17,
      "outputs": [
        {
          "output_type": "stream",
          "name": "stderr",
          "text": [
            "/usr/local/lib/python3.11/dist-packages/keras/src/layers/rnn/rnn.py:200: UserWarning: Do not pass an `input_shape`/`input_dim` argument to a layer. When using Sequential models, prefer using an `Input(shape)` object as the first layer in the model instead.\n",
            "  super().__init__(**kwargs)\n"
          ]
        }
      ]
    },
    {
      "cell_type": "code",
      "source": [
        "early_stopping = EarlyStopping(monitor='val_loss', patience=10, restore_best_weights=True)"
      ],
      "metadata": {
        "id": "G-90ACpMrjaE"
      },
      "execution_count": 18,
      "outputs": []
    },
    {
      "cell_type": "code",
      "source": [
        "history = model_RNN_1.fit(\n",
        "    X_train_scaled, y_train_scaled,\n",
        "    validation_data=(X_val_scaled, y_val_scaled),\n",
        "    epochs=100,\n",
        "    batch_size=32,\n",
        "    callbacks=[early_stopping],\n",
        "    verbose=0\n",
        ")"
      ],
      "metadata": {
        "id": "GesVUzmPrkck"
      },
      "execution_count": 19,
      "outputs": []
    },
    {
      "cell_type": "code",
      "source": [
        "plt.plot(history.history['loss'], label='Train Loss')\n",
        "plt.plot(history.history['val_loss'], label='Val Loss')\n",
        "plt.title('RNN Model 1 - Train vs Val Loss')\n",
        "plt.legend()\n",
        "plt.show()"
      ],
      "metadata": {
        "colab": {
          "base_uri": "https://localhost:8080/",
          "height": 452
        },
        "id": "yRBPE1ntrprO",
        "outputId": "3f251942-ceb6-4e37-858f-0ea1182cdb72"
      },
      "execution_count": 20,
      "outputs": [
        {
          "output_type": "display_data",
          "data": {
            "text/plain": [
              "<Figure size 640x480 with 1 Axes>"
            ],
            "image/png": "[encoded data removed]"
          },
          "metadata": {}
        }
      ]
    },
    {
      "cell_type": "code",
      "source": [
        "from sklearn.metrics import mean_squared_error, mean_absolute_percentage_error, r2_score"
      ],
      "metadata": {
        "id": "mHwKv-wWsM8l"
      },
      "execution_count": 21,
      "outputs": []
    },
    {
      "cell_type": "code",
      "source": [
        "y_pred = y_scaler.inverse_transform(model_RNN_1.predict(X_test_scaled))\n",
        "y_test_orig = y_scaler.inverse_transform(y_test_scaled)"
      ],
      "metadata": {
        "colab": {
          "base_uri": "https://localhost:8080/"
        },
        "id": "5__ZXJfgrxdl",
        "outputId": "ac46107a-9fc8-4d83-fb66-c2203b4de7e1"
      },
      "execution_count": 22,
      "outputs": [
        {
          "output_type": "stream",
          "name": "stdout",
          "text": [
            "\u001b[1m4/4\u001b[0m \u001b[32m━━━━━━━━━━━━━━━━━━━━\u001b[0m\u001b[37m\u001b[0m \u001b[1m1s\u001b[0m 234ms/step\n"
          ]
        }
      ]
    },
    {
      "cell_type": "code",
      "source": [
        "r2= r2_score(y_test_orig, y_pred)\n",
        "rmse = np.sqrt(mean_squared_error(y_test_orig, y_pred))\n",
        "mape = mean_absolute_percentage_error(y_test_orig, y_pred)\n",
        "print(f\"R^2 is {r2} \\n RMSE is {rmse} \\n MAPE is {mape}\")"
      ],
      "metadata": {
        "colab": {
          "base_uri": "https://localhost:8080/"
        },
        "id": "aH_cnKXWsYSE",
        "outputId": "0ef7de46-31a9-4ead-a9bd-99ca3c8a8d12"
      },
      "execution_count": 23,
      "outputs": [
        {
          "output_type": "stream",
          "name": "stdout",
          "text": [
            "R^2 is -2.954238790344595 \n",
            " RMSE is 21.39951111357105 \n",
            " MAPE is 0.08047127563552059\n"
          ]
        }
      ]
    },
    {
      "cell_type": "code",
      "source": [
        "plt.plot(y_test_orig, label='Gerçek Değerler')\n",
        "plt.plot(y_pred, label='RNN Tahminleri', linestyle='--')\n",
        "plt.legend()\n",
        "plt.show()"
      ],
      "metadata": {
        "colab": {
          "base_uri": "https://localhost:8080/",
          "height": 430
        },
        "id": "kJmx48dMr1V8",
        "outputId": "33ceccc3-be74-47fa-c2dd-f19aa5807201"
      },
      "execution_count": 24,
      "outputs": [
        {
          "output_type": "display_data",
          "data": {
            "text/plain": [
              "<Figure size 640x480 with 1 Axes>"
            ],
            "image/png": "[encoded data removed]"
          },
          "metadata": {}
        }
      ]
    },
    {
      "cell_type": "code",
      "source": [
        "from tensorflow.keras.layers import BatchNormalization\n",
        "\n",
        "model_RNN_2 = Sequential([\n",
        "    SimpleRNN(units=128, return_sequences=True, input_shape=(X_train_scaled.shape[1], X_train_scaled.shape[2])),\n",
        "    Dropout(0.3),\n",
        "    BatchNormalization(),\n",
        "\n",
        "    SimpleRNN(units=64, return_sequences=True),\n",
        "    Dropout(0.3),\n",
        "    BatchNormalization(),\n",
        "\n",
        "    SimpleRNN(units=32),\n",
        "    Dropout(0.3),\n",
        "\n",
        "    Dense(16, activation='relu'),\n",
        "    Dense(1)\n",
        "])\n",
        "\n",
        "model_RNN_2.compile(optimizer='adam', loss='mse', metrics=['mse'])"
      ],
      "metadata": {
        "colab": {
          "base_uri": "https://localhost:8080/"
        },
        "id": "h2vkLMlttHQS",
        "outputId": "80601c4e-e7c7-4389-a408-63e06966c3c0"
      },
      "execution_count": 25,
      "outputs": [
        {
          "output_type": "stream",
          "name": "stderr",
          "text": [
            "/usr/local/lib/python3.11/dist-packages/keras/src/layers/rnn/rnn.py:200: UserWarning: Do not pass an `input_shape`/`input_dim` argument to a layer. When using Sequential models, prefer using an `Input(shape)` object as the first layer in the model instead.\n",
            "  super().__init__(**kwargs)\n"
          ]
        }
      ]
    },
    {
      "cell_type": "code",
      "source": [
        "history = model_RNN_2.fit(\n",
        "    X_train_scaled, y_train_scaled,\n",
        "    validation_data=(X_val_scaled, y_val_scaled),\n",
        "    epochs=100,\n",
        "    batch_size=32,\n",
        "    callbacks=[early_stopping],\n",
        "    verbose=0\n",
        ")"
      ],
      "metadata": {
        "id": "lonN4i6ttO3B"
      },
      "execution_count": 26,
      "outputs": []
    },
    {
      "cell_type": "code",
      "source": [
        "plt.plot(history.history['loss'], label='Train Loss')\n",
        "plt.plot(history.history['val_loss'], label='Val Loss')\n",
        "plt.title('RNN Model 1 - Train vs Val Loss')\n",
        "plt.legend()\n",
        "plt.show()"
      ],
      "metadata": {
        "colab": {
          "base_uri": "https://localhost:8080/",
          "height": 452
        },
        "id": "OomPxP68tdcT",
        "outputId": "7f05def0-6ee4-449e-b9aa-ad9655914acf"
      },
      "execution_count": 27,
      "outputs": [
        {
          "output_type": "display_data",
          "data": {
            "text/plain": [
              "<Figure size 640x480 with 1 Axes>"
            ],
            "image/png": "[encoded data removed]"
          },
          "metadata": {}
        }
      ]
    },
    {
      "cell_type": "code",
      "source": [
        "y_pred = y_scaler.inverse_transform(model_RNN_1.predict(X_test_scaled))\n",
        "y_test_orig = y_scaler.inverse_transform(y_test_scaled)\n",
        "r2= r2_score(y_test_orig, y_pred)\n",
        "rmse = np.sqrt(mean_squared_error(y_test_orig, y_pred))\n",
        "mape = mean_absolute_percentage_error(y_test_orig, y_pred)\n",
        "print(f\"R^2 is {r2} \\n RMSE is {rmse} \\n MAPE is {mape}\")"
      ],
      "metadata": {
        "colab": {
          "base_uri": "https://localhost:8080/"
        },
        "id": "MkBSoDeDtmGy",
        "outputId": "d50be651-ca5b-478c-b506-07d7c998c099"
      },
      "execution_count": 28,
      "outputs": [
        {
          "output_type": "stream",
          "name": "stdout",
          "text": [
            "\u001b[1m4/4\u001b[0m \u001b[32m━━━━━━━━━━━━━━━━━━━━\u001b[0m\u001b[37m\u001b[0m \u001b[1m0s\u001b[0m 14ms/step\n",
            "R^2 is -2.954238790344595 \n",
            " RMSE is 21.39951111357105 \n",
            " MAPE is 0.08047127563552059\n"
          ]
        }
      ]
    },
    {
      "cell_type": "markdown",
      "source": [
        "# RNN, All Features"
      ],
      "metadata": {
        "id": "g7AdGX1DuOz6"
      }
    },
    {
      "cell_type": "code",
      "source": [
        "X_train, y_train, X_val, y_val, X_test, y_test = prepare_rnn_data(\n",
        "    apple_df,\n",
        "    target_col='Close',\n",
        "    use_all_features=True,\n",
        "    seq_length=60\n",
        ")"
      ],
      "metadata": {
        "id": "xKceZgZIt15i"
      },
      "execution_count": 29,
      "outputs": []
    },
    {
      "cell_type": "code",
      "source": [
        "x_scaler = MinMaxScaler(feature_range=(0, 1))\n",
        "X_train_scaled = x_scaler.fit_transform(X_train.reshape(-1, X_train.shape[-1])).reshape(X_train.shape)\n",
        "X_val_scaled = x_scaler.transform(X_val.reshape(-1, X_val.shape[-1])).reshape(X_val.shape)\n",
        "X_test_scaled = x_scaler.transform(X_test.reshape(-1, X_test.shape[-1])).reshape(X_test.shape)"
      ],
      "metadata": {
        "id": "lw4ty5oouiCZ"
      },
      "execution_count": 30,
      "outputs": []
    },
    {
      "cell_type": "code",
      "source": [
        "y_scaler = MinMaxScaler(feature_range=(0, 1))\n",
        "y_train_scaled = y_scaler.fit_transform(y_train.reshape(-1, 1))\n",
        "y_val_scaled = y_scaler.transform(y_val.reshape(-1, 1))\n",
        "y_test_scaled = y_scaler.transform(y_test.reshape(-1, 1))"
      ],
      "metadata": {
        "id": "tx6hWKWHuj8K"
      },
      "execution_count": 31,
      "outputs": []
    },
    {
      "cell_type": "code",
      "source": [
        "model_RNN_1 = Sequential(\n",
        "    [\n",
        "        SimpleRNN(units=128, return_sequences=True,input_shape=(X_train_scaled.shape[1], X_train_scaled.shape[2])),\n",
        "        Dropout(0.3),\n",
        "        SimpleRNN(units=64),\n",
        "        Dropout(0.2),\n",
        "        Dense(1)\n",
        "    ]\n",
        ")\n",
        "\n",
        "model_RNN_1.compile(optimizer='adam',loss='mse',metrics=['mse'])"
      ],
      "metadata": {
        "colab": {
          "base_uri": "https://localhost:8080/"
        },
        "id": "9hvpbfhNu2Np",
        "outputId": "a01e7b02-812c-4805-eeac-2d2fd8141b5b"
      },
      "execution_count": 57,
      "outputs": [
        {
          "output_type": "stream",
          "name": "stderr",
          "text": [
            "/usr/local/lib/python3.11/dist-packages/keras/src/layers/rnn/rnn.py:200: UserWarning: Do not pass an `input_shape`/`input_dim` argument to a layer. When using Sequential models, prefer using an `Input(shape)` object as the first layer in the model instead.\n",
            "  super().__init__(**kwargs)\n"
          ]
        }
      ]
    },
    {
      "cell_type": "code",
      "source": [
        "history = model_RNN_1.fit(\n",
        "    X_train_scaled, y_train_scaled,\n",
        "    validation_data=(X_val_scaled, y_val_scaled),\n",
        "    epochs=100,\n",
        "    batch_size=32,\n",
        "    callbacks=[early_stopping],\n",
        "    verbose=0\n",
        ")"
      ],
      "metadata": {
        "id": "n69F_xj2uqIa"
      },
      "execution_count": 58,
      "outputs": []
    },
    {
      "cell_type": "code",
      "source": [
        "plt.plot(history.history['loss'], label='Train Loss')\n",
        "plt.plot(history.history['val_loss'], label='Val Loss')\n",
        "plt.title('RNN Model 1 - Train vs Val Loss')\n",
        "plt.legend()\n",
        "plt.show()"
      ],
      "metadata": {
        "colab": {
          "base_uri": "https://localhost:8080/",
          "height": 452
        },
        "id": "5pRG3f5suuFJ",
        "outputId": "176cb20a-e97a-492c-da1e-8681047b4b97"
      },
      "execution_count": 59,
      "outputs": [
        {
          "output_type": "display_data",
          "data": {
            "text/plain": [
              "<Figure size 640x480 with 1 Axes>"
            ],
            "image/png": "[encoded data removed]"
          },
          "metadata": {}
        }
      ]
    },
    {
      "cell_type": "code",
      "source": [
        "y_pred = y_scaler.inverse_transform(model_RNN_1.predict(X_test_scaled))\n",
        "y_test_orig = y_scaler.inverse_transform(y_test_scaled)\n",
        "r2= r2_score(y_test_orig, y_pred)\n",
        "rmse = np.sqrt(mean_squared_error(y_test_orig, y_pred))\n",
        "mape = mean_absolute_percentage_error(y_test_orig, y_pred)\n",
        "print(f\"R^2 is {r2} \\n RMSE is {rmse} \\n MAPE is {mape}\")"
      ],
      "metadata": {
        "colab": {
          "base_uri": "https://localhost:8080/"
        },
        "id": "UH-4gR91u9pZ",
        "outputId": "7cc04413-8765-4ee2-fc20-51f49ff56b5e"
      },
      "execution_count": 60,
      "outputs": [
        {
          "output_type": "stream",
          "name": "stdout",
          "text": [
            "\u001b[1m4/4\u001b[0m \u001b[32m━━━━━━━━━━━━━━━━━━━━\u001b[0m\u001b[37m\u001b[0m \u001b[1m1s\u001b[0m 202ms/step\n",
            "R^2 is -0.19932105857838378 \n",
            " RMSE is 11.785286246845185 \n",
            " MAPE is 0.04268132223157412\n"
          ]
        }
      ]
    }
  ]
}